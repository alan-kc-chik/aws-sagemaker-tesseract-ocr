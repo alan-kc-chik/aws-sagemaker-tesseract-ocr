{
 "cells": [
  {
   "cell_type": "markdown",
   "id": "de49af75-a36c-4008-a37f-1b53b0c3b0e6",
   "metadata": {},
   "source": [
    "# pymupdf and tesseract for OCR in Amazon Sagemaker\n",
    "Use the `conda_python3` kernel."
   ]
  },
  {
   "cell_type": "markdown",
   "id": "b0c2bc00-8a6f-4d86-a3f5-8371decff517",
   "metadata": {},
   "source": [
    "## Extract the `tessdata` folder"
   ]
  },
  {
   "cell_type": "code",
   "execution_count": 1,
   "id": "dab93cc4-8a4b-4051-a06f-7f3dc1c3535a",
   "metadata": {
    "tags": []
   },
   "outputs": [],
   "source": [
    "%%bash\n",
    "tar -xf tessdata.tar"
   ]
  },
  {
   "cell_type": "markdown",
   "id": "bf765bc7-b0f4-43e1-8eb4-ecf495bd86ac",
   "metadata": {},
   "source": [
    "### (Optional) Install tesseract from scratch and get the `tessdata` folder\n",
    "Although we can install `tesseract` using `yum` (the solution provided [here](https://stackoverflow.com/a/74061696)), it only installs the `3.x` version, but `pymupdf` requires version 4.x or above, so I need to compile it myself.\n",
    "\n",
    "The solution below is adapted from [here](https://gist.github.com/mdv3101/a1b75abd2ec09dc5f1fb4f7637738f8d).\n",
    "\n",
    "This will take around 20-25 minutes."
   ]
  },
  {
   "cell_type": "code",
   "execution_count": null,
   "id": "6611de66",
   "metadata": {},
   "outputs": [],
   "source": [
    "# %%bash\n",
    "# bash install_tesseract.sh"
   ]
  },
  {
   "cell_type": "markdown",
   "id": "c4d8f2a4-147b-4fc7-80e5-34e54b723509",
   "metadata": {},
   "source": [
    "## Check that the installation is complete"
   ]
  },
  {
   "cell_type": "markdown",
   "id": "bfbc3557-0950-461a-bbf0-19f18c98a8c0",
   "metadata": {},
   "source": [
    "The output of `!ls tessdata` should read:\n",
    "```\n",
    "configs\t\t eng.user-patterns  Makefile\t Makefile.in\t  pdf.ttf\n",
    "eng.traineddata  eng.user-words     Makefile.am  osd.traineddata  tessconfigs\n",
    "```"
   ]
  },
  {
   "cell_type": "code",
   "execution_count": 2,
   "id": "69ebc77e-422f-4af1-94a0-d3d081cb8fb4",
   "metadata": {
    "tags": []
   },
   "outputs": [
    {
     "name": "stdout",
     "output_type": "stream",
     "text": [
      "configs\t\t eng.user-patterns  Makefile\t Makefile.in\t  pdf.ttf\n",
      "eng.traineddata  eng.user-words     Makefile.am  osd.traineddata  tessconfigs\n"
     ]
    }
   ],
   "source": [
    "!ls tessdata"
   ]
  },
  {
   "cell_type": "markdown",
   "id": "188a1fb0-7d8d-4f45-9de0-c39b8097e0bd",
   "metadata": {},
   "source": [
    "# Installing Python packages"
   ]
  },
  {
   "cell_type": "code",
   "execution_count": 3,
   "id": "9deb287e-2242-4eca-94b1-65f43f63611e",
   "metadata": {
    "tags": []
   },
   "outputs": [],
   "source": [
    "!pip install -qU langchain pymupdf"
   ]
  },
  {
   "cell_type": "markdown",
   "id": "121888c5-5b14-438e-851b-5c8535d1460a",
   "metadata": {},
   "source": [
    "# Setting the environment variable\n",
    "This must be done before importing `fitz` (`pymupdf`)."
   ]
  },
  {
   "cell_type": "code",
   "execution_count": 4,
   "id": "221c6b1a-cab2-4c25-ac43-09d1d2d4cc7e",
   "metadata": {
    "tags": []
   },
   "outputs": [],
   "source": [
    "import os\n",
    "# This must be done before importing fitz (pymupdf)\n",
    "os.environ[\"TESSDATA_PREFIX\"] = \"./tessdata\""
   ]
  },
  {
   "cell_type": "code",
   "execution_count": 5,
   "id": "bb558b8d-e52f-4762-890f-fa33f53c0b5d",
   "metadata": {
    "tags": []
   },
   "outputs": [],
   "source": [
    "import fitz\n",
    "\n",
    "assert tuple(map(int, fitz.VersionBind.split(\".\"))) >= (1, 19, 0), \"Need PyMuPDF v1.19.*\"\n",
    "assert fitz.TESSDATA_PREFIX"
   ]
  },
  {
   "cell_type": "markdown",
   "id": "00a353ca-a644-4a27-9502-dc6ca58976d2",
   "metadata": {},
   "source": [
    "## OCR using `pymupdf`\n",
    "Following the example notebook [here](https://github.com/pymupdf/PyMuPDF-Utilities/blob/master/jupyter-notebooks/partial-ocr.ipynb) to do OCR."
   ]
  },
  {
   "cell_type": "code",
   "execution_count": 6,
   "id": "c865c907-83df-4195-b59c-7d5bbee1d2ea",
   "metadata": {
    "tags": []
   },
   "outputs": [],
   "source": [
    "doc = fitz.open(\"ocr_Immunotherapy in breast cancer.pdf\")\n",
    "page = doc[0]"
   ]
  },
  {
   "cell_type": "code",
   "execution_count": 7,
   "id": "5c68f994-9aad-4daf-af55-14256ba38c36",
   "metadata": {
    "tags": []
   },
   "outputs": [
    {
     "name": "stdout",
     "output_type": "stream",
     "text": [
      "sey\n",
      "Journal of\n",
      "Jah\n",
      "»\n",
      ".\n",
      "s\n",
      "Browse articles\n",
      "eo &\n",
      "Instructions\n",
      "‘\n",
      "AFCINOQGENESIS\n",
      "Biker.\n",
      "J Carcinog. 2019; 18: 2.\n",
      "PMCID: PMC6540776\n",
      "Published online 2019 May 23. doi: 10.4103/jcar.JCar_2_19: 10.4103/jcar.JCar_2_19\n",
      "PMID: 31160888\n",
      "Immunotherapy in breast cancer\n",
      "Soley Bayraktar,''? Sameer Batoo,' Scott Okuno,' and Stefan Glick?\n",
      "'Department of Medicine, Division of Medical Oncology and Hematology, Mayo Clinic Health System, Eau Claire,\n",
      "WI, USA\n",
      "Department of Medicine, Division of Medical Oncology and Hematology, Biruni University School of Medicine,\n",
      "Istanbul, Turkey\n",
      "3Vice President Global Medical Affairs, Early Assets, Celgene Corporation, Summit, NJ, USA\n",
      "Address for correspondence: Dr. Soley Bayraktar, Mayo Clinic Health System, Albert J. And Judith A. Dunlap\n",
      "Cancer Center, 1221 Whipple St., Eau Claire, WI 54702, USA. E-mail: soley.bayraktar@gmail.com\n",
      "Received 2019 Mar 2; Accepted 2019 Apr 9.\n",
      "Copyright\n",
      ": © 2019 Journal of Carcinogenesis\n",
      "This is an open access journal, and articles are distributed under the terms of the Creative Commons Attribution-\n",
      "NonCommercial-ShareAlike 4.0 License, which allows others to remix, tweak, and build upon the work non-\n",
      "commercially, as long as appropriate credit is given and the new creations are licensed under the identical terms.\n",
      "Abstract\n",
      "The idea of using the immune system to fight cancer is over 100 years old.\n",
      "A new molecular\n",
      "approach led to a better understanding of the immune system. Checkpoint regulation, under-\n",
      "standing the roles of Tregs, Th1, and Th2, development of Chimeric antigen receptor (CAR)-T\n",
      "cells, as well as regulation of dendritic cells and macrophages, are just a few examples of our\n",
      "understating that has also led to the discovery of immune checkpoint inhibitors (ICIs) and\n",
      "modulators. This led the Nobel Prize committee in 2018, to award Dr. James P. Allison the\n",
      "Nobel Prize in medicine for the discovery of Cytotoxic T-lymphocyte-associated antigen-4, and\n",
      "Dr. Tasuku Honjo for the discovery of programmed cell death-1 (PD-1)/PD-1-ligand (PDL-1).\n",
      "Several ICIs are already approved by the regulatory authorities, and many more are currently\n",
      "used in studies of several solid tumors and hematologic malignancies. Positive studies have led\n",
      "to the US Food and Drug Administration (FDA) and European Medicines Agency approval of a\n",
      "number of these compounds, but none to date are approved in breast cancer (BC). Moreover,\n",
      "PD-1/PDL-1, MSI high (and dMMR), and tumor mutational burden are the currently “best” pre-\n",
      "dictive markers for benefit from immunotherapy. BCs have some ofthese markers positive\n",
      "only in subsets but less frequently expressed than most other solid tumors, for example, malig-\n",
      "nant melanoma or non-small cell lung cancer. To improve the potential efficacy of ICI in BC, the\n",
      "addition of chemotherapy was one of the strategies. Many early and large clinical trials in all\n",
      "phases are underway in BC. We will discuss the role of immune system in BC editing, and the\n",
      "potential impact of immunotherapy in BC outcomes.\n",
      "\n"
     ]
    }
   ],
   "source": [
    "# make the TextPage object. It does all the OCR.\n",
    "full_tp = page.get_textpage_ocr(flags=0, dpi=300, full=True)\n",
    "\n",
    "# now look at what we have got\n",
    "print(page.get_text(textpage=full_tp, sort=True))"
   ]
  },
  {
   "cell_type": "code",
   "execution_count": null,
   "id": "059313ab-8119-4beb-acf0-e192794fda51",
   "metadata": {},
   "outputs": [],
   "source": []
  }
 ],
 "metadata": {
  "kernelspec": {
   "display_name": "conda_python3",
   "language": "python",
   "name": "conda_python3"
  },
  "language_info": {
   "codemirror_mode": {
    "name": "ipython",
    "version": 3
   },
   "file_extension": ".py",
   "mimetype": "text/x-python",
   "name": "python",
   "nbconvert_exporter": "python",
   "pygments_lexer": "ipython3",
   "version": "3.10.10"
  }
 },
 "nbformat": 4,
 "nbformat_minor": 5
}
